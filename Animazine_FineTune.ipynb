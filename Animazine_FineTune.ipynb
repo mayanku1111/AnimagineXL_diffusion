{
  "nbformat": 4,
  "nbformat_minor": 0,
  "metadata": {
    "colab": {
      "provenance": [],
      "authorship_tag": "ABX9TyPthhVJRr6/QkRj1VYVZ8KT",
      "include_colab_link": true
    },
    "kernelspec": {
      "name": "python3",
      "display_name": "Python 3"
    },
    "language_info": {
      "name": "python"
    }
  },
  "cells": [
    {
      "cell_type": "markdown",
      "metadata": {
        "id": "view-in-github",
        "colab_type": "text"
      },
      "source": [
        "<a href=\"https://colab.research.google.com/github/mayanku1111/AnimagineXL_diffusion/blob/main/Animazine_FineTune.ipynb\" target=\"_parent\"><img src=\"https://colab.research.google.com/assets/colab-badge.svg\" alt=\"Open In Colab\"/></a>"
      ]
    },
    {
      "cell_type": "code",
      "execution_count": null,
      "metadata": {
        "id": "yahDOoSK3KJ3"
      },
      "outputs": [],
      "source": [
        "!pip install -q --upgrade diffusers invisible_watermark transformers accelerate safetensors"
      ]
    },
    {
      "cell_type": "code",
      "source": [
        "base_model = StableDiffusionXLPipeline.from_pretrained(\n",
        "    \"Linaqruf/animagine-xl-3.0\",\n",
        "    torch_dtype=torch.float16,\n",
        "    use_safetensors=True\n",
        ")"
      ],
      "metadata": {
        "id": "ASvdBPe93bfm"
      },
      "execution_count": null,
      "outputs": []
    },
    {
      "cell_type": "code",
      "source": [
        "dreambooth = DreamBoothPipeline.from_pretrained(base_model)"
      ],
      "metadata": {
        "id": "RgBbNwBt3bii"
      },
      "execution_count": null,
      "outputs": []
    },
    {
      "cell_type": "code",
      "source": [
        "dreambooth.train(\n",
        "    instance_prompt=\"aki\",\n",
        "    class_prompt=\"anime character\",\n",
        "    instance_images_dir=\"path/to/aki_images\",\n",
        "    output_dir=\"./aki_fine_tuned_model\",\n",
        "    num_class_images=200,\n",
        "    train_batch_size=1,\n",
        "    gradient_accumulation_steps=1,\n",
        "    learning_rate=5e-6,\n",
        "    num_train_epochs=100,\n",
        ")"
      ],
      "metadata": {
        "id": "nc9JJG2_3blF"
      },
      "execution_count": null,
      "outputs": []
    },
    {
      "cell_type": "code",
      "source": [
        "fine_tuned_model = StableDiffusionXLPipeline.from_pretrained(\"./aki_fine_tuned_model\")"
      ],
      "metadata": {
        "id": "O4rU2zS23bnZ"
      },
      "execution_count": null,
      "outputs": []
    },
    {
      "cell_type": "code",
      "source": [
        "image = fine_tuned_model(\"aki and other_character in a dramatic pose\", num_inference_steps=50).images[0]"
      ],
      "metadata": {
        "id": "OLgvo3WE3bp1"
      },
      "execution_count": null,
      "outputs": []
    },
    {
      "cell_type": "code",
      "source": [],
      "metadata": {
        "id": "AZ1hVXUe3bsY"
      },
      "execution_count": null,
      "outputs": []
    }
  ]
}